{
  "nbformat": 4,
  "nbformat_minor": 0,
  "metadata": {
    "colab": {
      "name": "week7",
      "provenance": [],
      "authorship_tag": "ABX9TyM5D/ywwX57DlyY///kfC5d",
      "include_colab_link": true
    },
    "kernelspec": {
      "name": "python3",
      "display_name": "Python 3"
    }
  },
  "cells": [
    {
      "cell_type": "markdown",
      "metadata": {
        "id": "view-in-github",
        "colab_type": "text"
      },
      "source": [
        "<a href=\"https://colab.research.google.com/github/ruin9106/computational-thinking/blob/master/week7.ipynb\" target=\"_parent\"><img src=\"https://colab.research.google.com/assets/colab-badge.svg\" alt=\"Open In Colab\"/></a>"
      ]
    },
    {
      "cell_type": "code",
      "metadata": {
        "id": "G3AvWQRUCiLh",
        "outputId": "30394e66-fffc-4665-985b-94bd41fa10f5",
        "colab": {
          "base_uri": "https://localhost:8080/"
        }
      },
      "source": [
        "magic_number = 3\n",
        "magic_number = (magic_number**(magic_number%magic_number))*333\n",
        "print(magic_number)"
      ],
      "execution_count": null,
      "outputs": [
        {
          "output_type": "stream",
          "text": [
            "333\n"
          ],
          "name": "stdout"
        }
      ]
    }
  ]
}