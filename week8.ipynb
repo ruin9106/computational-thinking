{
  "nbformat": 4,
  "nbformat_minor": 0,
  "metadata": {
    "colab": {
      "name": "week8",
      "provenance": [],
      "authorship_tag": "ABX9TyN++Eu8C+ebqjZND/HErFQN",
      "include_colab_link": true
    },
    "kernelspec": {
      "name": "python3",
      "display_name": "Python 3"
    }
  },
  "cells": [
    {
      "cell_type": "markdown",
      "metadata": {
        "id": "view-in-github",
        "colab_type": "text"
      },
      "source": [
        "<a href=\"https://colab.research.google.com/github/ruin9106/computational-thinking/blob/master/week8.ipynb\" target=\"_parent\"><img src=\"https://colab.research.google.com/assets/colab-badge.svg\" alt=\"Open In Colab\"/></a>"
      ]
    },
    {
      "cell_type": "code",
      "metadata": {
        "id": "EYSEdEE-ATE2",
        "outputId": "c274fdc2-57b6-4245-8b4b-11123e1690cf",
        "colab": {
          "base_uri": "https://localhost:8080/"
        }
      },
      "source": [
        "cloth = int(input(\"請輸入上衣的數量?\"))\n",
        "trousers = int(input(\"請輸入褲子的數量?\"))\n",
        "drink = int(input(\"請輸入飲料的數量?\"))\n",
        "\n",
        "total = cloth+trousers+drink\n",
        "print(\"訂購的總數量為\",total)\n",
        "print(\"訂購的平均為\",total/3)\n"
      ],
      "execution_count": null,
      "outputs": [
        {
          "output_type": "stream",
          "text": [
            "請輸入上衣的數量?20\n",
            "請輸入褲子的數量?20\n",
            "請輸入飲料的數量?20\n",
            "訂購的總數量為 60\n",
            "訂購的平均為 20.0\n"
          ],
          "name": "stdout"
        }
      ]
    }
  ]
}