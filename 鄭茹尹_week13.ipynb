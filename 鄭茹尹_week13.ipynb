{
  "nbformat": 4,
  "nbformat_minor": 0,
  "metadata": {
    "colab": {
      "name": "鄭茹尹-week13",
      "provenance": [],
      "authorship_tag": "ABX9TyNO97r2dEZUzsiva8BU03Kh",
      "include_colab_link": true
    },
    "kernelspec": {
      "name": "python3",
      "display_name": "Python 3"
    }
  },
  "cells": [
    {
      "cell_type": "markdown",
      "metadata": {
        "id": "view-in-github",
        "colab_type": "text"
      },
      "source": [
        "<a href=\"https://colab.research.google.com/github/ruin9106/computational-thinking/blob/master/%E9%84%AD%E8%8C%B9%E5%B0%B9_week13.ipynb\" target=\"_parent\"><img src=\"https://colab.research.google.com/assets/colab-badge.svg\" alt=\"Open In Colab\"/></a>"
      ]
    },
    {
      "cell_type": "code",
      "metadata": {
        "id": "eqnZCAqDwiK-",
        "colab": {
          "base_uri": "https://localhost:8080/"
        },
        "outputId": "7b988e84-0809-4d11-80b7-ef706fd2680e"
      },
      "source": [
        "\n",
        "# 數字2到10偶樹之和\n",
        "## 2+4+6+8+10=?\n",
        "sum = 0 # \n",
        "for i in range(2, 11, 2):\n",
        "    sum = sum + i \n",
        "print(\"Total is\", sum)\n",
        "\n",
        "# 2. 數字3到13之間，每隔3個數字之和\n",
        "## 3+6+9+12 = ?\n",
        "sum = 0 \n",
        "for i in range(3, 13, 3): \n",
        "    sum = sum + i \n",
        "print(\"Total is\", sum)"
      ],
      "execution_count": 32,
      "outputs": [
        {
          "output_type": "stream",
          "text": [
            "Total is 30\n",
            "Total is 30\n"
          ],
          "name": "stdout"
        }
      ]
    }
  ]
}