{
  "nbformat": 4,
  "nbformat_minor": 0,
  "metadata": {
    "colab": {
      "name": "鄭茹尹-week13",
      "provenance": [],
      "authorship_tag": "ABX9TyMf2++aOy6v6VVwIHfd5Evy",
      "include_colab_link": true
    },
    "kernelspec": {
      "name": "python3",
      "display_name": "Python 3"
    }
  },
  "cells": [
    {
      "cell_type": "markdown",
      "metadata": {
        "id": "view-in-github",
        "colab_type": "text"
      },
      "source": [
        "<a href=\"https://colab.research.google.com/github/ruin9106/computational-thinking/blob/master/%E9%84%AD%E8%8C%B9%E5%B0%B9_week13.ipynb\" target=\"_parent\"><img src=\"https://colab.research.google.com/assets/colab-badge.svg\" alt=\"Open In Colab\"/></a>"
      ]
    },
    {
      "cell_type": "code",
      "metadata": {
        "id": "eqnZCAqDwiK-",
        "colab": {
          "base_uri": "https://localhost:8080/"
        },
        "outputId": "af06d1a2-e1e9-4220-c58a-c2bed718ff3a"
      },
      "source": [
        "# 資料容器-List\n",
        "\n",
        "##文字串列\n",
        "##數字串列\n",
        "##混合串列\n",
        "\n",
        "list = [1,2,3,4,5,]\n",
        "\n",
        "\n",
        "#數字串列二:range()\n",
        "list1 = [1,2,3,4,5]\n",
        "\n",
        "list2 = range(1,10000,1)#[1,2,3,4,5]\n",
        "\n",
        "list3 = range(1,6,2)#[1,3,5,]\n",
        "\n",
        "#range(start,stop,step)\n",
        "#[0,1,2,3,4,5,6,7,8,9]\n",
        "##start = 0,step = 1,stop = 10\n",
        "range(0,10,1)\n",
        "range(0,10)\n",
        "list4 = range(10)\n",
        "\n",
        "#[0,1,2,3,4]\n",
        "\n",
        "for i in range(5):\n",
        "    print(\"Hello\")\n",
        "\n",
        "#印出100個Hello\n",
        "for i in range(0,5,1):\n",
        "    print(\"Hello\")\n",
        "\n",
        "#[0,1,2,3,4,5]\n",
        "for i in range(0,5,1):\n",
        "    print(i)\n",
        "\n",
        "#[2,3,4,5]\n",
        "for i in range(2,6,1):\n",
        "    print(i)\n",
        "\n",
        "# 數字1到10之和。\n",
        "## 1+2+3+4+5+6+7+8+9+10=?\n",
        "sum = 0 # 起始條件\n",
        "for i in range(1, 11, 1): #數字串列[1,2,3,4,5,6,7,8,9,10]\n",
        "    sum = sum + i # 加總運算,變更條件\n",
        "print(\"Total is\", sum)\n",
        "\n",
        "# 2. 數字1到10奇數之和。\n",
        "## 1+3+5+7+9 = ?\n",
        "sum = 0 # 起始值\n",
        "for i in range(1, 11, 2): # 數字串列[1,3,5,7,9]\n",
        "    sum = sum + i # 加總運算,變更條件\n",
        "print(\"Total is\", sum)"
      ],
      "execution_count": 30,
      "outputs": [
        {
          "output_type": "stream",
          "text": [
            "Hello\n",
            "Hello\n",
            "Hello\n",
            "Hello\n",
            "Hello\n",
            "Hello\n",
            "Hello\n",
            "Hello\n",
            "Hello\n",
            "Hello\n",
            "0\n",
            "1\n",
            "2\n",
            "3\n",
            "4\n",
            "2\n",
            "3\n",
            "4\n",
            "5\n",
            "Total is 55\n",
            "Total is 25\n"
          ],
          "name": "stdout"
        }
      ]
    }
  ]
}