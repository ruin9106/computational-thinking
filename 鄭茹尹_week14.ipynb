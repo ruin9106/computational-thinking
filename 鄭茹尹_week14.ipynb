{
  "nbformat": 4,
  "nbformat_minor": 0,
  "metadata": {
    "colab": {
      "name": "鄭茹尹-week14",
      "provenance": [],
      "authorship_tag": "ABX9TyOYzHASDy7MbZCfcMSw7+V3",
      "include_colab_link": true
    },
    "kernelspec": {
      "name": "python3",
      "display_name": "Python 3"
    }
  },
  "cells": [
    {
      "cell_type": "markdown",
      "metadata": {
        "id": "view-in-github",
        "colab_type": "text"
      },
      "source": [
        "<a href=\"https://colab.research.google.com/github/ruin9106/computational-thinking/blob/master/%E9%84%AD%E8%8C%B9%E5%B0%B9_week14.ipynb\" target=\"_parent\"><img src=\"https://colab.research.google.com/assets/colab-badge.svg\" alt=\"Open In Colab\"/></a>"
      ]
    },
    {
      "cell_type": "code",
      "metadata": {
        "colab": {
          "base_uri": "https://localhost:8080/"
        },
        "id": "YHEJ2ZSXyIbJ",
        "outputId": "a2df06f3-8037-451c-936d-9220e3c6b5e7"
      },
      "source": [
        "n = int(input(\"請輸入n值?\"))\r\n",
        "sum = 0\r\n",
        "for i in range(1, n + 1):\r\n",
        "    sum = sum + i*i\r\n",
        "print(\"total is\", sum)"
      ],
      "execution_count": 10,
      "outputs": [
        {
          "output_type": "stream",
          "text": [
            "請輸入n值?5\n",
            "total is 55\n"
          ],
          "name": "stdout"
        }
      ]
    }
  ]
}