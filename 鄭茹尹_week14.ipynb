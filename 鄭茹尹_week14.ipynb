{
  "nbformat": 4,
  "nbformat_minor": 0,
  "metadata": {
    "colab": {
      "name": "鄭茹尹-week14",
      "provenance": [],
      "authorship_tag": "ABX9TyN3erc18PpZf9ObwvTDgzFt",
      "include_colab_link": true
    },
    "kernelspec": {
      "name": "python3",
      "display_name": "Python 3"
    }
  },
  "cells": [
    {
      "cell_type": "markdown",
      "metadata": {
        "id": "view-in-github",
        "colab_type": "text"
      },
      "source": [
        "<a href=\"https://colab.research.google.com/github/ruin9106/computational-thinking/blob/master/%E9%84%AD%E8%8C%B9%E5%B0%B9_week14.ipynb\" target=\"_parent\"><img src=\"https://colab.research.google.com/assets/colab-badge.svg\" alt=\"Open In Colab\"/></a>"
      ]
    },
    {
      "cell_type": "code",
      "metadata": {
        "colab": {
          "base_uri": "https://localhost:8080/"
        },
        "id": "YHEJ2ZSXyIbJ",
        "outputId": "a2df06f3-8037-451c-936d-9220e3c6b5e7"
      },
      "source": [
        "n = int(input(\"請輸入n值?\"))\r\n",
        "sum = 0\r\n",
        "for i in range(1, n + 1):\r\n",
        "    sum = sum + i*i\r\n",
        "print(\"total is\", sum)"
      ],
      "execution_count": 10,
      "outputs": [
        {
          "output_type": "stream",
          "text": [
            "請輸入n值?5\n",
            "total is 55\n"
          ],
          "name": "stdout"
        }
      ]
    },
    {
      "cell_type": "code",
      "metadata": {
        "colab": {
          "base_uri": "https://localhost:8080/"
        },
        "id": "fDAdp9Uw1vgN",
        "outputId": "ce7e5d4a-90c8-4ae8-ff62-e4f514ffa1a8"
      },
      "source": [
        "people = [\"a\", \"b\", \"c\"]\r\n",
        "desserts = [\"d\", \"e\", \"f\"]\r\n",
        "for index in range(len(people)):\r\n",
        "    name = people[index]\r\n",
        "    dessert = desserts[index]\r\n",
        "    print(f\"Hi! My name is {name}. My favorite dessert is {dessert}.\")"
      ],
      "execution_count": 27,
      "outputs": [
        {
          "output_type": "stream",
          "text": [
            "Hi! My name is a. My favorite dessert is d.\n",
            "Hi! My name is b. My favorite dessert is e.\n",
            "Hi! My name is c. My favorite dessert is f.\n"
          ],
          "name": "stdout"
        }
      ]
    },
    {
      "cell_type": "code",
      "metadata": {
        "colab": {
          "base_uri": "https://localhost:8080/"
        },
        "id": "f4Bw8rjW5XEr",
        "outputId": "f6fcd0f4-4923-46ed-c94d-4118c23261ad"
      },
      "source": [
        "for i in range(5):\r\n",
        "    print(\"*\" *(i+1))"
      ],
      "execution_count": 41,
      "outputs": [
        {
          "output_type": "stream",
          "text": [
            "*\n",
            "**\n",
            "***\n",
            "****\n",
            "*****\n"
          ],
          "name": "stdout"
        }
      ]
    },
    {
      "cell_type": "code",
      "metadata": {
        "colab": {
          "base_uri": "https://localhost:8080/"
        },
        "id": "cetd2nL6-IRF",
        "outputId": "2d96548c-d97d-4c7a-a3f9-70326157f409"
      },
      "source": [
        "for i in range(5):\r\n",
        "\r\n",
        "  print(\" \"*(4-i),end=\"\")\r\n",
        "  print(\"**\" *(i+1))"
      ],
      "execution_count": 84,
      "outputs": [
        {
          "output_type": "stream",
          "text": [
            "    **\n",
            "   ****\n",
            "  ******\n",
            " ********\n",
            "**********\n"
          ],
          "name": "stdout"
        }
      ]
    }
  ]
}