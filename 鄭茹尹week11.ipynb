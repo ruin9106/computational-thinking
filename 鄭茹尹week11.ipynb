{
  "nbformat": 4,
  "nbformat_minor": 0,
  "metadata": {
    "colab": {
      "name": "鄭茹尹week11",
      "provenance": [],
      "authorship_tag": "ABX9TyPGN8btJ7T6dest+KBfdMrX",
      "include_colab_link": true
    },
    "kernelspec": {
      "name": "python3",
      "display_name": "Python 3"
    }
  },
  "cells": [
    {
      "cell_type": "markdown",
      "metadata": {
        "id": "view-in-github",
        "colab_type": "text"
      },
      "source": [
        "<a href=\"https://colab.research.google.com/github/ruin9106/computational-thinking/blob/master/%E9%84%AD%E8%8C%B9%E5%B0%B9week11.ipynb\" target=\"_parent\"><img src=\"https://colab.research.google.com/assets/colab-badge.svg\" alt=\"Open In Colab\"/></a>"
      ]
    },
    {
      "cell_type": "markdown",
      "metadata": {
        "id": "a1cFyHZpojkP"
      },
      "source": [
        "習題解答:報告分組"
      ]
    },
    {
      "cell_type": "code",
      "metadata": {
        "colab": {
          "base_uri": "https://localhost:8080/"
        },
        "id": "fMm-uQTZozHP",
        "outputId": "0429d682-4334-469f-a99b-53e357243ace"
      },
      "source": [
        "# 方法(一):商數\n",
        "## Input\n",
        "number = input(\"Enter your seat number?\" )\n",
        "number = int(number)\n",
        "## process\n",
        "group = (number - 1) // 5 + 1\n",
        "## Output\n",
        "print(\"Groups is\", group)"
      ],
      "execution_count": 12,
      "outputs": [
        {
          "output_type": "stream",
          "text": [
            "Enter your seat number?40\n",
            "Groups is 8\n"
          ],
          "name": "stdout"
        }
      ]
    }
  ]
}